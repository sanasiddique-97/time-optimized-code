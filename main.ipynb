{
 "cells": [
  {
   "cell_type": "code",
   "execution_count": 1,
   "metadata": {},
   "outputs": [],
   "source": [
    "import numpy as np\n",
    "import pandas as pd\n",
    "import os\n",
    "import time"
   ]
  },
  {
   "cell_type": "code",
   "execution_count": 2,
   "metadata": {},
   "outputs": [],
   "source": [
    "dataframe = pd.read_csv(os.path.join(\"data.csv\"))\n",
    "dataframe = dataframe[~pd.isna(dataframe).any(1)]"
   ]
  },
  {
   "cell_type": "code",
   "execution_count": 3,
   "metadata": {},
   "outputs": [],
   "source": [
    "# house_split_list = dataframe['house_number'].str.split('-', expand=True)\n",
    "# house_split_list = np.asarray(house_split_list.values, dtype=\"int32\")\n",
    "# postal_codes_list = np.asarray(dataframe['postal_code'].to_numpy(), dtype=\"int32\")\n",
    "# unit_price_list = np.asarray(dataframe['unit_price'], dtype=\"float32\")\n",
    "# grid_fees_list = np.asarray(dataframe['grid_fees'], dtype=\"float32\")\n",
    "# kwh_price_list = np.asarray(dataframe['kwh_price'], dtype=\"float32\")"
   ]
  },
  {
   "cell_type": "code",
   "execution_count": 4,
   "metadata": {},
   "outputs": [],
   "source": [
    "# pandas.to_numeric(arg, errors='raise', downcast=None)"
   ]
  },
  {
   "cell_type": "code",
   "execution_count": 5,
   "metadata": {},
   "outputs": [],
   "source": [
    "# s = pd.Series([1.0, 2.1, 3.0], dtype=\"Float64\")\n",
    "# pd.to_numeric(s, downcast=\"float\")"
   ]
  },
  {
   "cell_type": "code",
   "execution_count": 6,
   "metadata": {},
   "outputs": [],
   "source": [
    "# unit_price_list = np.asarray(dataframe['unit_price'], dtype=\"float32\")"
   ]
  },
  {
   "cell_type": "code",
   "execution_count": 7,
   "metadata": {},
   "outputs": [],
   "source": [
    "\n",
    "# unit_price_list = pd.Series(dataframe['unit_price'], dtype=\"Float64\")\n",
    "# pd.to_numeric(unit_price_list, downcast=\"float\")"
   ]
  },
  {
   "cell_type": "code",
   "execution_count": 8,
   "metadata": {},
   "outputs": [],
   "source": [
    "#downcasting by pandas\n",
    "unit_price_list = pd.Series(dataframe['unit_price'], dtype=\"Float64\")\n",
    "pd.to_numeric(unit_price_list, downcast=\"float\")\n",
    "grid_fees_list = pd.Series(dataframe['grid_fees'], dtype=\"Float64\")\n",
    "pd.to_numeric(grid_fees_list, downcast=\"float\")\n",
    "kwh_price_list = pd.Series(dataframe['kwh_price'], dtype=\"Float64\")\n",
    "pd.to_numeric(kwh_price_list, downcast=\"float\")\n",
    "house_split_list = dataframe['house_number'].str.split('-', expand=True)\n",
    "house_split_list = np.asarray(house_split_list.values, dtype=\"int32\")\n",
    "postal_codes_list = np.asarray(dataframe['postal_code'].to_numpy(), dtype=\"int32\")\n",
    "\n"
   ]
  },
  {
   "cell_type": "code",
   "execution_count": 9,
   "metadata": {},
   "outputs": [],
   "source": [
    "city_names_list = dataframe['city'].to_numpy()\n",
    "street_list = dataframe['street'].to_numpy()"
   ]
  },
  {
   "cell_type": "code",
   "execution_count": 10,
   "metadata": {},
   "outputs": [],
   "source": [
    "def tariff_gen(postal_code, city, street, house, ykc, house_split_list, postal_codes_list,\n",
    "               unit_price_list, grid_fees_list, kwh_price_list, city_names_list, street_list):\n",
    "    match_indexes = np.where((postal_codes_list == postal_code) & (city_names_list == city) &\n",
    "                             (street_list == street) & (house_split_list[:, 0] <= house) & (\n",
    "                                         house_split_list[:, 1] >= house))[0]\n",
    "\n",
    "    avg_kwh_price = np.average(kwh_price_list[match_indexes])\n",
    "    avg_grid_price = np.average(grid_fees_list[match_indexes])\n",
    "    avg_unit_price = np.average(unit_price_list[match_indexes])\n",
    "\n",
    "    total_bill = avg_unit_price + avg_grid_price + ykc * avg_kwh_price\n",
    "\n",
    "    print(avg_kwh_price)\n",
    "    print(avg_grid_price)\n",
    "    print(avg_unit_price)\n",
    "    print(ykc)\n",
    "    print(total_bill)\n",
    "    result = {\n",
    "        \"unit_price\": avg_unit_price,\n",
    "        \"grid_fees\": avg_grid_price,\n",
    "        \"kwh_price\": avg_kwh_price,\n",
    "        'total_price': total_bill\n",
    "\n",
    "    }\n",
    "    return (result)\n"
   ]
  },
  {
   "cell_type": "code",
   "execution_count": 11,
   "metadata": {},
   "outputs": [
    {
     "name": "stdout",
     "output_type": "stream",
     "text": [
      "0.56\n",
      "0.64\n",
      "3.86\n",
      "1\n",
      "5.0600000000000005\n",
      "time: 0.1860363483428955\n"
     ]
    }
   ],
   "source": [
    "start_time = time.time()\n",
    "tariff_gen(24446, \"Enricoburg\", \"Am Weingarten\", 14, 1, house_split_list, postal_codes_list,\n",
    "           unit_price_list, grid_fees_list, kwh_price_list, city_names_list, street_list)\n",
    "\n",
    "print(\"time: {}\".format(time.time()-start_time))"
   ]
  },
  {
   "cell_type": "code",
   "execution_count": null,
   "metadata": {},
   "outputs": [],
   "source": []
  }
 ],
 "metadata": {
  "kernelspec": {
   "display_name": "Python 3",
   "language": "python",
   "name": "python3"
  },
  "language_info": {
   "codemirror_mode": {
    "name": "ipython",
    "version": 3
   },
   "file_extension": ".py",
   "mimetype": "text/x-python",
   "name": "python",
   "nbconvert_exporter": "python",
   "pygments_lexer": "ipython3",
   "version": "3.8.5"
  }
 },
 "nbformat": 4,
 "nbformat_minor": 4
}
